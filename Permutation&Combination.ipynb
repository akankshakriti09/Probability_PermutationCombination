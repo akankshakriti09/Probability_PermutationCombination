{
  "cells": [
    {
      "cell_type": "markdown",
      "metadata": {
        "id": "P6HcBjRxHdb2"
      },
      "source": [
        "# 7_Probability Permutation & Combination\n"
      ]
    },
    {
      "cell_type": "markdown",
      "metadata": {
        "id": "l_h3JZgMH7ZJ"
      },
      "source": [
        "###Permutation - with Length-2"
      ]
    },
    {
      "cell_type": "code",
      "execution_count": 1,
      "metadata": {
        "id": "DxkcGAcEHOa6"
      },
      "outputs": [
        {
          "name": "stdout",
          "output_type": "stream",
          "text": [
            "(1, 2)\n",
            "(1, 3)\n",
            "(2, 1)\n",
            "(2, 3)\n",
            "(3, 1)\n",
            "(3, 2)\n",
            "Permutation Count:  6\n"
          ]
        }
      ],
      "source": [
        "from itertools import permutations\n",
        "count=0\n",
        "data = [1, 2, 3]\n",
        "perm = permutations(data, 2)\n",
        "for i in list(perm):\n",
        "    print (i)\n",
        "    count+=1\n",
        "\n",
        "print(\"Permutation Count: \",count)"
      ]
    },
    {
      "cell_type": "markdown",
      "metadata": {
        "id": "3yv3seI8Jb9-"
      },
      "source": [
        "###Combination - with Length-2"
      ]
    },
    {
      "cell_type": "code",
      "execution_count": 2,
      "metadata": {
        "id": "opZs6tnTJeTy"
      },
      "outputs": [
        {
          "name": "stdout",
          "output_type": "stream",
          "text": [
            "(2, 1)\n",
            "(2, 3)\n",
            "(1, 3)\n",
            "Combination Count:  3\n"
          ]
        }
      ],
      "source": [
        "from itertools import combinations\n",
        "count=0\n",
        "data = [1, 2, 3]\n",
        "data2 = [2, 1, 3]\n",
        "perm = combinations(data2, 2)\n",
        "for i in list(perm):\n",
        "    print (i)\n",
        "    count+=1\n",
        "\n",
        "print(\"Combination Count: \",count)"
      ]
    },
    {
      "cell_type": "markdown",
      "metadata": {
        "id": "tARmVpRfJ05P"
      },
      "source": [
        "### Combination - with Length-2"
      ]
    },
    {
      "cell_type": "code",
      "execution_count": 3,
      "metadata": {
        "id": "pII5bxXNJ2Jd"
      },
      "outputs": [
        {
          "name": "stdout",
          "output_type": "stream",
          "text": [
            "(1, 1)\n",
            "(1, 2)\n",
            "(1, 3)\n",
            "(2, 2)\n",
            "(2, 3)\n",
            "(3, 3)\n",
            "Combination with Element Count:  6\n"
          ]
        }
      ],
      "source": [
        "from itertools import combinations_with_replacement as cr\n",
        "count=0\n",
        "data = [1, 2, 3]\n",
        "data2 = [2, 1, 3]\n",
        "perm = cr(data, 2)\n",
        "for i in list(perm):\n",
        "    print (i)\n",
        "    count+=1\n",
        "\n",
        "print(\"Combination with Element Count: \",count)"
      ]
    }
  ],
  "metadata": {
    "colab": {
      "collapsed_sections": [],
      "name": "7_Permutation&Combination.ipynb",
      "provenance": []
    },
    "kernelspec": {
      "display_name": "Python 3",
      "name": "python3"
    },
    "language_info": {
      "codemirror_mode": {
        "name": "ipython",
        "version": 3
      },
      "file_extension": ".py",
      "mimetype": "text/x-python",
      "name": "python",
      "nbconvert_exporter": "python",
      "pygments_lexer": "ipython3",
      "version": "3.11.5"
    }
  },
  "nbformat": 4,
  "nbformat_minor": 0
}
